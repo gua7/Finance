{
 "cells": [
  {
   "cell_type": "code",
   "execution_count": 97,
   "id": "3444773d",
   "metadata": {},
   "outputs": [],
   "source": [
    "import numpy as np\n",
    "import pandas as pd\n",
    "from pypfopt import EfficientFrontier,risk_models,expected_returns,objective_functions\n",
    "from pypfopt.base_optimizer import BaseConvexOptimizer\n",
    "from scipy.optimize import minimize\n",
    "import matplotlib.pyplot as plt\n",
    "import statsmodels.api as sm"
   ]
  },
  {
   "cell_type": "code",
   "execution_count": 98,
   "id": "4790254f",
   "metadata": {},
   "outputs": [],
   "source": [
    "df_info = pd.read_excel('trading-game-data-21112023.xlsx',sheet_name='info')\n",
    "df_price = pd.read_excel('trading-game-data-21112023.xlsx',sheet_name='price')\n",
    "df_price['Date'] = pd.to_datetime(df_price['Date'])\n",
    "df_price.set_index('Date', inplace=True)\n",
    "df_sp = pd.read_excel('trading-game-data-15112023.xlsx',sheet_name='index-price' )\n",
    "df_sp['Date'] = pd.to_datetime(df_sp['Date'])\n",
    "df_sp.set_index('Date', inplace=True)\n",
    "df_size = pd.read_excel('trading-game-data-15112023.xlsx',sheet_name='size' )\n",
    "df_size['Date'] = pd.to_datetime(df_size['Date'])\n",
    "df_size.set_index('Date', inplace=True)\n",
    "df_ptb = pd.read_excel('trading-game-data-15112023.xlsx',sheet_name='price-to-book' )\n",
    "df_ptb['Date'] = pd.to_datetime(df_ptb['Date'])\n",
    "df_ptb.set_index('Date', inplace=True)\n",
    "df_turnover = df_size = pd.read_excel('trading-game-data-15112023.xlsx',sheet_name='turnover' )\n",
    "df_turnover['Date'] = pd.to_datetime(df_turnover['Date'])\n",
    "df_turnover.set_index('Date', inplace=True)\n",
    "df_vix = pd.read_csv('VIX_history.csv')\n",
    "df_vix['DATE'] = pd.to_datetime(df_vix['DATE'])\n",
    "df_vix.set_index('DATE', inplace=True)"
   ]
  },
  {
   "cell_type": "code",
   "execution_count": 99,
   "id": "ed63dd15",
   "metadata": {},
   "outputs": [],
   "source": [
    "log_returns = np.log(df_price / df_price.shift(1))"
   ]
  },
  {
   "cell_type": "code",
   "execution_count": 117,
   "id": "61100647",
   "metadata": {},
   "outputs": [],
   "source": [
    "weekly_log_returns = log_returns.resample('W-Fri').last()"
   ]
  },
  {
   "cell_type": "code",
   "execution_count": 191,
   "id": "01f83f84",
   "metadata": {},
   "outputs": [],
   "source": [
    "top_max_returns = weekly_log_returns.max().sort_values(ascending = False).head(10)"
   ]
  },
  {
   "cell_type": "code",
   "execution_count": 192,
   "id": "1dd74b76",
   "metadata": {},
   "outputs": [],
   "source": [
    "top_std_devs = weekly_log_returns.std().sort_values(ascending = False).head(10)"
   ]
  },
  {
   "cell_type": "code",
   "execution_count": 193,
   "id": "4973bd07",
   "metadata": {},
   "outputs": [
    {
     "name": "stdout",
     "output_type": "stream",
     "text": [
      "['EXPE', 'PARA', 'CMA', 'CTLT', 'FSLR', 'ZION']\n"
     ]
    }
   ],
   "source": [
    "common_indices = list(set(top_max_returns.index).intersection(set(top_std_devs.index)))\n",
    "\n",
    "print(common_indices)"
   ]
  },
  {
   "cell_type": "code",
   "execution_count": 194,
   "id": "feeaed41",
   "metadata": {},
   "outputs": [],
   "source": [
    "df_tk = pd.DataFrame(columns = ['ticker','TK'])"
   ]
  },
  {
   "cell_type": "code",
   "execution_count": 195,
   "id": "bb5bf3ae",
   "metadata": {},
   "outputs": [],
   "source": [
    "def value(x,alpha,beta,loss_aversion):\n",
    "    if x>=0:\n",
    "        v = x**alpha\n",
    "    else:\n",
    "        v = -loss_aversion*(-x)**beta     \n",
    "    return v"
   ]
  },
  {
   "cell_type": "code",
   "execution_count": 196,
   "id": "b2437beb",
   "metadata": {},
   "outputs": [],
   "source": [
    "def prob_weighting(p,w):\n",
    "    return p**w/(p**w+(1-p)**w)**(1/w)"
   ]
  },
  {
   "cell_type": "code",
   "execution_count": 197,
   "id": "9ac3279b",
   "metadata": {},
   "outputs": [],
   "source": [
    "for i in range(len(log_returns.columns)):\n",
    "    tk = 0\n",
    "    returns = log_returns.loc[:, log_returns.columns[i]].tail(25).tolist()\n",
    "    positive = [return_ for return_ in returns if return_ >= 0]\n",
    "    negative = [return_ for return_ in returns if return_ < 0]\n",
    "    sorted_positive = sorted(positive)\n",
    "    sorted_negative = sorted(negative)\n",
    "    for p in range(len(sorted_positive)):\n",
    "        tk = tk + value(sorted_positive[p],0.88,0.88,1.31)*(prob_weighting((p+1)/25,0.61)-prob_weighting(p/25,0.61))\n",
    "    for n in range(len(sorted_negative)):\n",
    "        tk = tk + + value(sorted_negative[n],0.88,0.88,1.31)*(prob_weighting((n+1)/25,0.69)-prob_weighting(n/25,0.69))\n",
    "    df_tk.loc[i, 'ticker'] = log_returns.columns[i]\n",
    "    df_tk.loc[i, 'TK'] = tk"
   ]
  },
  {
   "cell_type": "code",
   "execution_count": 203,
   "id": "28414f18",
   "metadata": {},
   "outputs": [
    {
     "data": {
      "text/html": [
       "<div>\n",
       "<style scoped>\n",
       "    .dataframe tbody tr th:only-of-type {\n",
       "        vertical-align: middle;\n",
       "    }\n",
       "\n",
       "    .dataframe tbody tr th {\n",
       "        vertical-align: top;\n",
       "    }\n",
       "\n",
       "    .dataframe thead th {\n",
       "        text-align: right;\n",
       "    }\n",
       "</style>\n",
       "<table border=\"1\" class=\"dataframe\">\n",
       "  <thead>\n",
       "    <tr style=\"text-align: right;\">\n",
       "      <th></th>\n",
       "      <th>ticker</th>\n",
       "      <th>TK</th>\n",
       "    </tr>\n",
       "  </thead>\n",
       "  <tbody>\n",
       "    <tr>\n",
       "      <th>355</th>\n",
       "      <td>PAYC</td>\n",
       "      <td>-0.071713</td>\n",
       "    </tr>\n",
       "    <tr>\n",
       "      <th>405</th>\n",
       "      <td>SEDG</td>\n",
       "      <td>-0.062679</td>\n",
       "    </tr>\n",
       "    <tr>\n",
       "      <th>22</th>\n",
       "      <td>ALGN</td>\n",
       "      <td>-0.047811</td>\n",
       "    </tr>\n",
       "    <tr>\n",
       "      <th>348</th>\n",
       "      <td>ON</td>\n",
       "      <td>-0.046766</td>\n",
       "    </tr>\n",
       "    <tr>\n",
       "      <th>161</th>\n",
       "      <td>ENPH</td>\n",
       "      <td>-0.044614</td>\n",
       "    </tr>\n",
       "    <tr>\n",
       "      <th>345</th>\n",
       "      <td>OGN</td>\n",
       "      <td>-0.039354</td>\n",
       "    </tr>\n",
       "    <tr>\n",
       "      <th>157</th>\n",
       "      <td>EL</td>\n",
       "      <td>-0.039259</td>\n",
       "    </tr>\n",
       "    <tr>\n",
       "      <th>191</th>\n",
       "      <td>FMC</td>\n",
       "      <td>-0.036946</td>\n",
       "    </tr>\n",
       "    <tr>\n",
       "      <th>122</th>\n",
       "      <td>CTLT</td>\n",
       "      <td>-0.036824</td>\n",
       "    </tr>\n",
       "    <tr>\n",
       "      <th>401</th>\n",
       "      <td>RVTY</td>\n",
       "      <td>-0.034385</td>\n",
       "    </tr>\n",
       "  </tbody>\n",
       "</table>\n",
       "</div>"
      ],
      "text/plain": [
       "    ticker        TK\n",
       "355   PAYC -0.071713\n",
       "405   SEDG -0.062679\n",
       "22    ALGN -0.047811\n",
       "348     ON -0.046766\n",
       "161   ENPH -0.044614\n",
       "345    OGN -0.039354\n",
       "157     EL -0.039259\n",
       "191    FMC -0.036946\n",
       "122   CTLT -0.036824\n",
       "401   RVTY -0.034385"
      ]
     },
     "execution_count": 203,
     "metadata": {},
     "output_type": "execute_result"
    }
   ],
   "source": [
    "df_tk.sort_values(by='TK',ascending=True).head(10)"
   ]
  },
  {
   "cell_type": "code",
   "execution_count": null,
   "id": "6d451224",
   "metadata": {},
   "outputs": [],
   "source": []
  }
 ],
 "metadata": {
  "kernelspec": {
   "display_name": "Python 3 (ipykernel)",
   "language": "python",
   "name": "python3"
  },
  "language_info": {
   "codemirror_mode": {
    "name": "ipython",
    "version": 3
   },
   "file_extension": ".py",
   "mimetype": "text/x-python",
   "name": "python",
   "nbconvert_exporter": "python",
   "pygments_lexer": "ipython3",
   "version": "3.11.5"
  }
 },
 "nbformat": 4,
 "nbformat_minor": 5
}
