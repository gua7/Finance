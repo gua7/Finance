{
 "cells": [
  {
   "cell_type": "code",
   "execution_count": 1,
   "id": "24c21e0c",
   "metadata": {},
   "outputs": [],
   "source": [
    "import numpy as np\n",
    "import pandas as pd\n",
    "from pypfopt import EfficientFrontier,risk_models,expected_returns,objective_functions\n",
    "from pypfopt.base_optimizer import BaseConvexOptimizer\n",
    "from scipy.optimize import minimize\n",
    "import matplotlib.pyplot as plt\n",
    "import statsmodels.api as sm"
   ]
  },
  {
   "cell_type": "markdown",
   "id": "b55d2ca0",
   "metadata": {},
   "source": [
    "Problem 1"
   ]
  },
  {
   "cell_type": "code",
   "execution_count": 2,
   "id": "efec2260",
   "metadata": {},
   "outputs": [],
   "source": [
    "ff = pd.read_excel('ap-2023-ff-data.xlsx')\n",
    "ff['Year-Month'] = ff['Year'].astype(str) + '-' + ff['Month'].astype(str)\n",
    "ff['Year-Month'] = pd.to_datetime(ff['Year-Month'], format='%Y-%m')\n",
    "ff.set_index('Year-Month', inplace=True)\n",
    "ff.drop(['Year', 'Month'], axis=1, inplace=True)\n",
    "\n",
    "ami_day_ret = pd.read_excel('ap-2023-amihud-data.xlsx',sheet_name = 'returns-daily')\n",
    "ami_day_ret['Date'] = pd.to_datetime(ami_day_ret['Date'], format='%Y-%m-%d')\n",
    "ami_day_ret.set_index('Date', inplace=True)\n",
    "\n",
    "ami_dvd = pd.read_excel('ap-2023-amihud-data.xlsx',sheet_name = 'dollar-vols-daily')\n",
    "ami_dvd['Date'] = pd.to_datetime(ami_dvd['Date'], format='%Y-%m-%d')\n",
    "ami_dvd.set_index('Date', inplace=True)\n",
    "\n",
    "ami_mon_ret = pd.read_excel('ap-2023-amihud-data.xlsx',sheet_name = 'returns-monthly')\n",
    "ami_mon_ret['Year-Month'] = ami_mon_ret['Year'].astype(str) + '-' + ami_mon_ret['Month'].astype(str)\n",
    "ami_mon_ret['Year-Month'] = pd.to_datetime(ami_mon_ret['Year-Month'], format='%Y-%m')\n",
    "ami_mon_ret.set_index('Year-Month', inplace=True)\n",
    "ami_mon_ret.drop(['Year', 'Month'], axis=1, inplace=True)\n",
    "\n",
    "ami_ff = pd.read_excel('ap-2023-amihud-data.xlsx',sheet_name = 'ff-factors')\n",
    "ami_ff['Year-Month'] = ami_ff['Year'].astype(str) + '-' + ami_ff['Month'].astype(str)\n",
    "ami_ff['Year-Month'] = pd.to_datetime(ami_ff['Year-Month'], format='%Y-%m')\n",
    "ami_ff.set_index('Year-Month', inplace=True)\n",
    "ami_ff.drop(['Year', 'Month'], axis=1, inplace=True)"
   ]
  },
  {
   "cell_type": "code",
   "execution_count": 3,
   "id": "582a910a",
   "metadata": {},
   "outputs": [],
   "source": [
    "ff3f = ff[['Mkt-RF', 'SMB', 'HML']]"
   ]
  },
  {
   "cell_type": "code",
   "execution_count": 4,
   "id": "c9eb6108",
   "metadata": {},
   "outputs": [
    {
     "name": "stdout",
     "output_type": "stream",
     "text": [
      "[0.37   0.1462 0.4838]\n",
      "Optimal Portfolio Return: 0.9638700369190636\n",
      "Optimal Portfolio Risk: 0.3297476496654774\n",
      "Optimal Sharpe Ratio: 2.923053546846781\n"
     ]
    }
   ],
   "source": [
    "mu = expected_returns.mean_historical_return(ff3f, log_returns=True,frequency=252,compounding=False,returns_data = True)\n",
    "S = risk_models.sample_cov(ff3f, log_returns=True,frequency=252,returns_data = True)\n",
    "\n",
    "rf = 0\n",
    "\n",
    "def optm_func(weights, expected_return, cov_matrix,rf):\n",
    "    portfolio_risk = np.sqrt(np.dot(weights, np.dot(cov_matrix, weights)))\n",
    "    portfolio_return = weights @ expected_return\n",
    "    sharpe_ratio = (portfolio_return - rf) / portfolio_risk\n",
    "    return -sharpe_ratio\n",
    "\n",
    "constraints = ({'type': 'eq', 'fun': lambda weights: np.sum(weights) - 1},\n",
    "               {'type': 'ineq', 'fun': lambda weights: weights})\n",
    "             #  {'type': 'ineq', 'fun': lambda weights: 0.1-weights})\n",
    "\n",
    "n_assets = len(mu)\n",
    "bounds = [(0, 1) for _ in range(n_assets)]\n",
    "initial_weights = np.ones(n_assets) / n_assets\n",
    "\n",
    "optimization = minimize(optm_func, initial_weights, args=(mu, S, rf),\n",
    "                constraints=constraints, bounds=bounds)\n",
    "optimal_weights = optimization.x\n",
    "optimal_return = optimal_weights @ mu\n",
    "optimal_risk = np.sqrt(optimal_weights @ S @ optimal_weights)\n",
    "optimal_sharpe_ratio = (optimal_return - rf) / optimal_risk\n",
    "optimal_weights = np.round(optimal_weights,4)\n",
    "\n",
    "optimal_sharpe = (optimal_return - rf) / optimal_risk\n",
    "\n",
    "print(optimal_weights)\n",
    "print(\"Optimal Portfolio Return:\", optimal_return)\n",
    "print(\"Optimal Portfolio Risk:\", optimal_risk)\n",
    "print(\"Optimal Sharpe Ratio:\", optimal_sharpe)"
   ]
  },
  {
   "cell_type": "code",
   "execution_count": 5,
   "id": "97426fc6",
   "metadata": {},
   "outputs": [
    {
     "name": "stdout",
     "output_type": "stream",
     "text": [
      "                            OLS Regression Results                            \n",
      "==============================================================================\n",
      "Dep. Variable:                    RMW   R-squared:                       0.136\n",
      "Model:                            OLS   Adj. R-squared:                  0.132\n",
      "Method:                 Least Squares   F-statistic:                     36.35\n",
      "Date:                Fri, 10 Nov 2023   Prob (F-statistic):           8.01e-22\n",
      "Time:                        19:26:28   Log-Likelihood:                 1713.5\n",
      "No. Observations:                 696   AIC:                            -3419.\n",
      "Df Residuals:                     692   BIC:                            -3401.\n",
      "Df Model:                           3                                         \n",
      "Covariance Type:            nonrobust                                         \n",
      "==============================================================================\n",
      "                 coef    std err          t      P>|t|      [0.025      0.975]\n",
      "------------------------------------------------------------------------------\n",
      "const          0.0034      0.001      4.308      0.000       0.002       0.005\n",
      "Mkt-RF        -0.0443      0.019     -2.359      0.019      -0.081      -0.007\n",
      "SMB           -0.2361      0.027     -8.771      0.000      -0.289      -0.183\n",
      "HML            0.0491      0.028      1.777      0.076      -0.005       0.103\n",
      "==============================================================================\n",
      "Omnibus:                       94.931   Durbin-Watson:                   1.588\n",
      "Prob(Omnibus):                  0.000   Jarque-Bera (JB):             1000.112\n",
      "Skew:                           0.012   Prob(JB):                    6.74e-218\n",
      "Kurtosis:                       8.872   Cond. No.                         37.0\n",
      "==============================================================================\n",
      "\n",
      "Notes:\n",
      "[1] Standard Errors assume that the covariance matrix of the errors is correctly specified.\n"
     ]
    }
   ],
   "source": [
    "Xb = ff[['Mkt-RF', 'SMB', 'HML']]\n",
    "yb = ff['RMW']\n",
    "Xb = sm.add_constant(Xb)\n",
    "modelb = sm.OLS(yb, Xb).fit()\n",
    "print(modelb.summary())"
   ]
  },
  {
   "cell_type": "code",
   "execution_count": 6,
   "id": "8e459c99",
   "metadata": {},
   "outputs": [
    {
     "name": "stdout",
     "output_type": "stream",
     "text": [
      "                            OLS Regression Results                            \n",
      "==============================================================================\n",
      "Dep. Variable:                    CMA   R-squared:                       0.506\n",
      "Model:                            OLS   Adj. R-squared:                  0.504\n",
      "Method:                 Least Squares   F-statistic:                     236.6\n",
      "Date:                Fri, 10 Nov 2023   Prob (F-statistic):          1.23e-105\n",
      "Time:                        19:26:28   Log-Likelihood:                 1986.4\n",
      "No. Observations:                 696   AIC:                            -3965.\n",
      "Df Residuals:                     692   BIC:                            -3947.\n",
      "Df Model:                           3                                         \n",
      "Covariance Type:            nonrobust                                         \n",
      "==============================================================================\n",
      "                 coef    std err          t      P>|t|      [0.025      0.975]\n",
      "------------------------------------------------------------------------------\n",
      "const          0.0022      0.001      4.117      0.000       0.001       0.003\n",
      "Mkt-RF        -0.1076      0.013     -8.479      0.000      -0.133      -0.083\n",
      "SMB           -0.0066      0.018     -0.363      0.717      -0.042       0.029\n",
      "HML            0.4220      0.019     22.623      0.000       0.385       0.459\n",
      "==============================================================================\n",
      "Omnibus:                       27.358   Durbin-Watson:                   1.900\n",
      "Prob(Omnibus):                  0.000   Jarque-Bera (JB):               65.388\n",
      "Skew:                           0.141   Prob(JB):                     6.33e-15\n",
      "Kurtosis:                       4.475   Cond. No.                         37.0\n",
      "==============================================================================\n",
      "\n",
      "Notes:\n",
      "[1] Standard Errors assume that the covariance matrix of the errors is correctly specified.\n"
     ]
    }
   ],
   "source": [
    "Xc = ff[['Mkt-RF', 'SMB', 'HML']]\n",
    "yc = ff['CMA']\n",
    "Xc = sm.add_constant(Xc)\n",
    "modelc = sm.OLS(yc, Xc).fit()\n",
    "print(modelc.summary())"
   ]
  },
  {
   "cell_type": "code",
   "execution_count": 7,
   "id": "9d470277",
   "metadata": {},
   "outputs": [],
   "source": [
    "ff5f = ff[['Mkt-RF', 'SMB', 'HML', 'RMW', 'CMA']]"
   ]
  },
  {
   "cell_type": "code",
   "execution_count": 8,
   "id": "2cbcc54b",
   "metadata": {},
   "outputs": [
    {
     "name": "stdout",
     "output_type": "stream",
     "text": [
      "[0.1708 0.118  0.     0.315  0.3962]\n",
      "Optimal Portfolio Return: 0.8120344598560627\n",
      "Optimal Portfolio Risk: 0.16365671493808967\n",
      "Optimal Sharpe Ratio: 4.961815713844985\n"
     ]
    }
   ],
   "source": [
    "mu = expected_returns.mean_historical_return(ff5f, log_returns=True,frequency=252,compounding=False,returns_data = True)\n",
    "S = risk_models.sample_cov(ff5f, log_returns=True,frequency=252,returns_data = True)\n",
    "\n",
    "rf = 0\n",
    "\n",
    "def optm_func(weights, expected_return, cov_matrix,rf):\n",
    "    portfolio_risk = np.sqrt(np.dot(weights, np.dot(cov_matrix, weights)))\n",
    "    portfolio_return = weights @ expected_return\n",
    "    sharpe_ratio = (portfolio_return - rf) / portfolio_risk\n",
    "    return -sharpe_ratio\n",
    "\n",
    "constraints = ({'type': 'eq', 'fun': lambda weights: np.sum(weights) - 1},\n",
    "               {'type': 'ineq', 'fun': lambda weights: weights})\n",
    "             #  {'type': 'ineq', 'fun': lambda weights: 0.1-weights})\n",
    "\n",
    "n_assets = len(mu)\n",
    "bounds = [(0, 1) for _ in range(n_assets)]\n",
    "initial_weights = np.ones(n_assets) / n_assets\n",
    "\n",
    "optimization = minimize(optm_func, initial_weights, args=(mu, S, rf),\n",
    "                constraints=constraints, bounds=bounds)\n",
    "optimal_weights = optimization.x\n",
    "optimal_return = optimal_weights @ mu\n",
    "optimal_risk = np.sqrt(optimal_weights @ S @ optimal_weights)\n",
    "optimal_sharpe_ratio = (optimal_return - rf) / optimal_risk\n",
    "optimal_weights = np.round(optimal_weights,4)\n",
    "\n",
    "optimal_sharpe = (optimal_return - rf) / optimal_risk\n",
    "\n",
    "print(optimal_weights)\n",
    "print(\"Optimal Portfolio Return:\", optimal_return)\n",
    "print(\"Optimal Portfolio Risk:\", optimal_risk)\n",
    "print(\"Optimal Sharpe Ratio:\", optimal_sharpe)"
   ]
  },
  {
   "cell_type": "code",
   "execution_count": 9,
   "id": "0866d945",
   "metadata": {},
   "outputs": [
    {
     "name": "stdout",
     "output_type": "stream",
     "text": [
      "                            OLS Regression Results                            \n",
      "==============================================================================\n",
      "Dep. Variable:                    HML   R-squared:                       0.470\n",
      "Model:                            OLS   Adj. R-squared:                  0.467\n",
      "Method:                 Least Squares   F-statistic:                     153.1\n",
      "Date:                Fri, 10 Nov 2023   Prob (F-statistic):           9.62e-94\n",
      "Time:                        19:26:28   Log-Likelihood:                 1695.2\n",
      "No. Observations:                 696   AIC:                            -3380.\n",
      "Df Residuals:                     691   BIC:                            -3358.\n",
      "Df Model:                           4                                         \n",
      "Covariance Type:            nonrobust                                         \n",
      "==============================================================================\n",
      "                 coef    std err          t      P>|t|      [0.025      0.975]\n",
      "------------------------------------------------------------------------------\n",
      "const         -0.0010      0.001     -1.196      0.232      -0.003       0.001\n",
      "Mkt-RF         0.0379      0.020      1.854      0.064      -0.002       0.078\n",
      "SMB            0.0752      0.029      2.582      0.010       0.018       0.132\n",
      "RMW            0.1896      0.039      4.839      0.000       0.113       0.267\n",
      "CMA            1.0301      0.044     23.370      0.000       0.944       1.117\n",
      "==============================================================================\n",
      "Omnibus:                       92.741   Durbin-Watson:                   1.776\n",
      "Prob(Omnibus):                  0.000   Jarque-Bera (JB):              518.418\n",
      "Skew:                          -0.433   Prob(JB):                    2.67e-113\n",
      "Kurtosis:                       7.138   Cond. No.                         56.9\n",
      "==============================================================================\n",
      "\n",
      "Notes:\n",
      "[1] Standard Errors assume that the covariance matrix of the errors is correctly specified.\n"
     ]
    }
   ],
   "source": [
    "Xe = ff[['Mkt-RF', 'SMB', 'RMW','CMA']]\n",
    "ye = ff['HML']\n",
    "Xe = sm.add_constant(Xe)\n",
    "modele = sm.OLS(ye, Xe).fit()\n",
    "print(modele.summary())"
   ]
  },
  {
   "cell_type": "code",
   "execution_count": 10,
   "id": "0595e7b9",
   "metadata": {},
   "outputs": [
    {
     "name": "stdout",
     "output_type": "stream",
     "text": [
      "                            OLS Regression Results                            \n",
      "==============================================================================\n",
      "Dep. Variable:                    MOM   R-squared:                       0.108\n",
      "Model:                            OLS   Adj. R-squared:                  0.102\n",
      "Method:                 Least Squares   F-statistic:                     16.77\n",
      "Date:                Fri, 10 Nov 2023   Prob (F-statistic):           1.17e-15\n",
      "Time:                        19:26:28   Log-Likelihood:                 1255.4\n",
      "No. Observations:                 696   AIC:                            -2499.\n",
      "Df Residuals:                     690   BIC:                            -2472.\n",
      "Df Model:                           5                                         \n",
      "Covariance Type:            nonrobust                                         \n",
      "==============================================================================\n",
      "                 coef    std err          t      P>|t|      [0.025      0.975]\n",
      "------------------------------------------------------------------------------\n",
      "const          0.0071      0.002      4.463      0.000       0.004       0.010\n",
      "Mkt-RF        -0.1617      0.039     -4.190      0.000      -0.237      -0.086\n",
      "SMB            0.0391      0.055      0.710      0.478      -0.069       0.147\n",
      "HML           -0.5255      0.072     -7.338      0.000      -0.666      -0.385\n",
      "RMW            0.1901      0.075      2.534      0.011       0.043       0.337\n",
      "CMA            0.3179      0.111      2.864      0.004       0.100       0.536\n",
      "==============================================================================\n",
      "Omnibus:                      225.911   Durbin-Watson:                   1.947\n",
      "Prob(Omnibus):                  0.000   Jarque-Bera (JB):             2316.223\n",
      "Skew:                          -1.144   Prob(JB):                         0.00\n",
      "Kurtosis:                      11.639   Cond. No.                         82.5\n",
      "==============================================================================\n",
      "\n",
      "Notes:\n",
      "[1] Standard Errors assume that the covariance matrix of the errors is correctly specified.\n"
     ]
    }
   ],
   "source": [
    "Xf = ff[['Mkt-RF', 'SMB','HML', 'RMW','CMA']]\n",
    "yf = ff['MOM']\n",
    "Xf = sm.add_constant(Xf)\n",
    "modelf = sm.OLS(yf, Xf).fit()\n",
    "print(modelf.summary())"
   ]
  },
  {
   "cell_type": "code",
   "execution_count": 11,
   "id": "63752590",
   "metadata": {},
   "outputs": [
    {
     "name": "stdout",
     "output_type": "stream",
     "text": [
      "                            OLS Regression Results                            \n",
      "==============================================================================\n",
      "Dep. Variable:                  STREV   R-squared:                       0.122\n",
      "Model:                            OLS   Adj. R-squared:                  0.116\n",
      "Method:                 Least Squares   F-statistic:                     19.19\n",
      "Date:                Fri, 10 Nov 2023   Prob (F-statistic):           6.58e-18\n",
      "Time:                        19:26:28   Log-Likelihood:                 1466.3\n",
      "No. Observations:                 696   AIC:                            -2921.\n",
      "Df Residuals:                     690   BIC:                            -2893.\n",
      "Df Model:                           5                                         \n",
      "Covariance Type:            nonrobust                                         \n",
      "==============================================================================\n",
      "                 coef    std err          t      P>|t|      [0.025      0.975]\n",
      "------------------------------------------------------------------------------\n",
      "const          0.0036      0.001      3.099      0.002       0.001       0.006\n",
      "Mkt-RF         0.1877      0.028      6.587      0.000       0.132       0.244\n",
      "SMB            0.0823      0.041      2.024      0.043       0.002       0.162\n",
      "HML            0.2117      0.053      4.002      0.000       0.108       0.316\n",
      "RMW           -0.0444      0.055     -0.802      0.423      -0.153       0.064\n",
      "CMA           -0.2181      0.082     -2.660      0.008      -0.379      -0.057\n",
      "==============================================================================\n",
      "Omnibus:                      114.173   Durbin-Watson:                   2.120\n",
      "Prob(Omnibus):                  0.000   Jarque-Bera (JB):             1052.649\n",
      "Skew:                           0.406   Prob(JB):                    2.63e-229\n",
      "Kurtosis:                       8.970   Cond. No.                         82.5\n",
      "==============================================================================\n",
      "\n",
      "Notes:\n",
      "[1] Standard Errors assume that the covariance matrix of the errors is correctly specified.\n"
     ]
    }
   ],
   "source": [
    "Xg = ff[['Mkt-RF', 'SMB','HML', 'RMW','CMA']]\n",
    "yg = ff['STREV']\n",
    "Xg = sm.add_constant(Xg)\n",
    "modelg = sm.OLS(yg, Xg).fit()\n",
    "print(modelg.summary())"
   ]
  },
  {
   "cell_type": "code",
   "execution_count": 12,
   "id": "0dc746f4",
   "metadata": {},
   "outputs": [
    {
     "name": "stdout",
     "output_type": "stream",
     "text": [
      "[0.1197 0.0712 0.     0.2159 0.3161 0.1342 0.143 ]\n",
      "Optimal Portfolio Return: 0.9678422209450578\n",
      "Optimal Portfolio Risk: 0.15180144311308222\n",
      "Optimal Sharpe Ratio: 6.375711594678834\n"
     ]
    }
   ],
   "source": [
    "mu = expected_returns.mean_historical_return(ff, log_returns=True,frequency=252,compounding=False,returns_data = True)\n",
    "S = risk_models.sample_cov(ff, log_returns=True,frequency=252,returns_data = True)\n",
    "\n",
    "rf = 0\n",
    "\n",
    "def optm_func(weights, expected_return, cov_matrix,rf):\n",
    "    portfolio_risk = np.sqrt(np.dot(weights, np.dot(cov_matrix, weights)))\n",
    "    portfolio_return = weights @ expected_return\n",
    "    sharpe_ratio = (portfolio_return - rf) / portfolio_risk\n",
    "    return -sharpe_ratio\n",
    "\n",
    "constraints = ({'type': 'eq', 'fun': lambda weights: np.sum(weights) - 1},\n",
    "               {'type': 'ineq', 'fun': lambda weights: weights})\n",
    "             #  {'type': 'ineq', 'fun': lambda weights: 0.1-weights})\n",
    "\n",
    "n_assets = len(mu)\n",
    "bounds = [(0, 1) for _ in range(n_assets)]\n",
    "initial_weights = np.ones(n_assets) / n_assets\n",
    "\n",
    "optimization = minimize(optm_func, initial_weights, args=(mu, S, rf),\n",
    "                constraints=constraints, bounds=bounds)\n",
    "optimal_weights = optimization.x\n",
    "optimal_return = optimal_weights @ mu\n",
    "optimal_risk = np.sqrt(optimal_weights @ S @ optimal_weights)\n",
    "optimal_sharpe_ratio = (optimal_return - rf) / optimal_risk\n",
    "optimal_weights = np.round(optimal_weights,4)\n",
    "\n",
    "optimal_sharpe = (optimal_return - rf) / optimal_risk\n",
    "\n",
    "print(optimal_weights)\n",
    "print(\"Optimal Portfolio Return:\", optimal_return)\n",
    "print(\"Optimal Portfolio Risk:\", optimal_risk)\n",
    "print(\"Optimal Sharpe Ratio:\", optimal_sharpe)"
   ]
  },
  {
   "cell_type": "code",
   "execution_count": 13,
   "id": "e1893ca2",
   "metadata": {},
   "outputs": [],
   "source": [
    "ff_in= ff[ff.index <=  '1999-12-31']\n",
    "ff_out = ff[ff.index >=  '1999-12-31']"
   ]
  },
  {
   "cell_type": "code",
   "execution_count": 14,
   "id": "3586205b",
   "metadata": {},
   "outputs": [
    {
     "name": "stdout",
     "output_type": "stream",
     "text": [
      "[0.0576 0.0498 0.1016 0.2087 0.1877 0.1929 0.2017]\n",
      "Optimal Portfolio Return: 1.1548526071252876\n",
      "Optimal Portfolio Risk: 0.12778908844028827\n",
      "Optimal Sharpe Ratio: 9.037176970433693\n"
     ]
    }
   ],
   "source": [
    "mu = expected_returns.mean_historical_return(ff_in, log_returns=True,frequency=252,compounding=False,returns_data = True)\n",
    "S = risk_models.sample_cov(ff_in, log_returns=True,frequency=252,returns_data = True)\n",
    "\n",
    "rf = 0\n",
    "\n",
    "def optm_func(weights, expected_return, cov_matrix,rf):\n",
    "    portfolio_risk = np.sqrt(np.dot(weights, np.dot(cov_matrix, weights)))\n",
    "    portfolio_return = weights @ expected_return\n",
    "    sharpe_ratio = (portfolio_return - rf) / portfolio_risk\n",
    "    return -sharpe_ratio\n",
    "\n",
    "constraints = ({'type': 'eq', 'fun': lambda weights: np.sum(weights) - 1},\n",
    "               {'type': 'ineq', 'fun': lambda weights: weights})\n",
    "             #  {'type': 'ineq', 'fun': lambda weights: 0.1-weights})\n",
    "\n",
    "n_assets = len(mu)\n",
    "bounds = [(0, 1) for _ in range(n_assets)]\n",
    "initial_weights = np.ones(n_assets) / n_assets\n",
    "\n",
    "optimization = minimize(optm_func, initial_weights, args=(mu, S, rf),\n",
    "                constraints=constraints, bounds=bounds)\n",
    "optimal_weights = optimization.x\n",
    "optimal_return = optimal_weights @ mu\n",
    "optimal_risk = np.sqrt(optimal_weights @ S @ optimal_weights)\n",
    "optimal_sharpe_ratio = (optimal_return - rf) / optimal_risk\n",
    "optimal_weights = np.round(optimal_weights,4)\n",
    "\n",
    "optimal_sharpe = (optimal_return - rf) / optimal_risk\n",
    "\n",
    "print(optimal_weights)\n",
    "print(\"Optimal Portfolio Return:\", optimal_return)\n",
    "print(\"Optimal Portfolio Risk:\", optimal_risk)\n",
    "print(\"Optimal Sharpe Ratio:\", optimal_sharpe)"
   ]
  },
  {
   "cell_type": "code",
   "execution_count": 15,
   "id": "0bd68175",
   "metadata": {},
   "outputs": [
    {
     "name": "stdout",
     "output_type": "stream",
     "text": [
      "[0.1931 0.1649 0.     0.3345 0.1949 0.0713 0.0414]\n",
      "Optimal Portfolio Return: 0.9805402314976324\n",
      "Optimal Portfolio Risk: 0.18400373084770424\n",
      "Optimal Sharpe Ratio: 5.328914946345319\n"
     ]
    }
   ],
   "source": [
    "mu = expected_returns.mean_historical_return(ff_out, log_returns=True,frequency=252,compounding=False,returns_data = True)\n",
    "S = risk_models.sample_cov(ff_out, log_returns=True,frequency=252,returns_data = True)\n",
    "\n",
    "rf = 0\n",
    "\n",
    "def optm_func(weights, expected_return, cov_matrix,rf):\n",
    "    portfolio_risk = np.sqrt(np.dot(weights, np.dot(cov_matrix, weights)))\n",
    "    portfolio_return = weights @ expected_return\n",
    "    sharpe_ratio = (portfolio_return - rf) / portfolio_risk\n",
    "    return -sharpe_ratio\n",
    "\n",
    "constraints = ({'type': 'eq', 'fun': lambda weights: np.sum(weights) - 1},\n",
    "               {'type': 'ineq', 'fun': lambda weights: weights})\n",
    "             #  {'type': 'ineq', 'fun': lambda weights: 0.1-weights})\n",
    "\n",
    "n_assets = len(mu)\n",
    "bounds = [(0, 1) for _ in range(n_assets)]\n",
    "initial_weights = np.ones(n_assets) / n_assets\n",
    "\n",
    "optimization = minimize(optm_func, initial_weights, args=(mu, S, rf),\n",
    "                constraints=constraints, bounds=bounds)\n",
    "optimal_weights = optimization.x\n",
    "optimal_return = optimal_weights @ mu\n",
    "optimal_risk = np.sqrt(optimal_weights @ S @ optimal_weights)\n",
    "optimal_sharpe_ratio = (optimal_return - rf) / optimal_risk\n",
    "optimal_weights = np.round(optimal_weights,4)\n",
    "\n",
    "optimal_sharpe = (optimal_return - rf) / optimal_risk\n",
    "\n",
    "print(optimal_weights)\n",
    "print(\"Optimal Portfolio Return:\", optimal_return)\n",
    "print(\"Optimal Portfolio Risk:\", optimal_risk)\n",
    "print(\"Optimal Sharpe Ratio:\", optimal_sharpe)"
   ]
  },
  {
   "cell_type": "markdown",
   "id": "68cc9776",
   "metadata": {},
   "source": [
    "Problem 2"
   ]
  },
  {
   "cell_type": "code",
   "execution_count": 67,
   "id": "484f79df",
   "metadata": {},
   "outputs": [],
   "source": [
    "ami_ILIIQ = pd.DataFrame()\n",
    "ami_ILIIQ = 10**6 * np.abs(ami_day_ret)/ami_dvd #calculate ILIIQ"
   ]
  },
  {
   "cell_type": "code",
   "execution_count": 68,
   "id": "4b7c9d91",
   "metadata": {},
   "outputs": [],
   "source": [
    "ami_ILIIQ_month = ami_ILIIQ.resample('M').mean() #resample monthly to get monthly ILIIQ\n",
    "ami_ILIIQ_month.index = ami_ILIIQ_month.index.to_period('M').to_timestamp()"
   ]
  },
  {
   "cell_type": "code",
   "execution_count": 69,
   "id": "7ce07e80",
   "metadata": {},
   "outputs": [],
   "source": [
    "#create new dataframe to store the list of top/bottom liquid stock list\n",
    "ami_liquidity = pd.DataFrame(index=ami_ILIIQ_month.index, columns=['IL', 'L','IML']) \n",
    "for i in range(len(ami_ILIIQ_month)):\n",
    "    IL = []\n",
    "    L = []\n",
    "    for j in range(len(ami_ILIIQ_month.columns)):\n",
    "        if ami_ILIIQ_month.iloc[i, j] >= ami_ILIIQ_month.iloc[i].quantile(0.8):\n",
    "            IL.append(ami_ILIIQ_month.columns[j])\n",
    "        elif ami_ILIIQ_month.iloc[i, j] <= ami_ILIIQ_month.iloc[i].quantile(0.2):\n",
    "            L.append(ami_ILIIQ_month.columns[j])\n",
    "    ami_liquidity.at[ami_ILIIQ_month.index[i], 'IL'] = IL\n",
    "    ami_liquidity.at[ami_ILIIQ_month.index[i], 'L'] = L"
   ]
  },
  {
   "cell_type": "code",
   "execution_count": 70,
   "id": "6e55f360",
   "metadata": {},
   "outputs": [],
   "source": [
    "for i in range(1,len(ami_liquidity)): #calculate IML\n",
    "    IL_mean = ami_ILIIQ_month.loc[ami_ILIIQ_month.index[i], ami_liquidity['IL'].iloc[i-1]].mean()\n",
    "    L_mean = ami_ILIIQ_month.loc[ami_ILIIQ_month.index[i],ami_liquidity['L'].iloc[i-1]].mean()\n",
    "    ami_liquidity.at[ami_liquidity.index[i], 'IML'] = IL_mean - L_mean\n",
    "ami_liquidity['IML'] =  ami_liquidity['IML'].astype(float)"
   ]
  },
  {
   "cell_type": "code",
   "execution_count": null,
   "id": "d640ae02",
   "metadata": {},
   "outputs": [],
   "source": []
  },
  {
   "cell_type": "code",
   "execution_count": 72,
   "id": "12e52cef",
   "metadata": {},
   "outputs": [
    {
     "name": "stdout",
     "output_type": "stream",
     "text": [
      "0.004286339752729787 0.005132140916183093 0.8351952572490252\n"
     ]
    }
   ],
   "source": [
    "IML_mean = ami_liquidity.IML.mean() #(a)\n",
    "IML_vol = ami_liquidity.IML.std()\n",
    "IML_sharpe = IML_mean/IML_vol\n",
    "print(IML_mean,IML_vol,IML_sharpe)"
   ]
  },
  {
   "cell_type": "code",
   "execution_count": 73,
   "id": "0b3775f9",
   "metadata": {},
   "outputs": [
    {
     "name": "stdout",
     "output_type": "stream",
     "text": [
      "0.007293838187437195 0.005600669637536531 1.3023153764601276\n"
     ]
    }
   ],
   "source": [
    "IML_mean = ami_liquidity[ami_liquidity.index <= '2005-12-31'].IML.mean()\n",
    "IML_vol = ami_liquidity[ami_liquidity.index <= '2005-12-31'].IML.std()\n",
    "IML_sharpe = IML_mean/IML_vol\n",
    "print(IML_mean,IML_vol,IML_sharpe)"
   ]
  },
  {
   "cell_type": "code",
   "execution_count": 74,
   "id": "744f31b8",
   "metadata": {},
   "outputs": [
    {
     "name": "stdout",
     "output_type": "stream",
     "text": [
      "0.0013039038049782725 0.0018865615652012627 0.6911535934101197\n"
     ]
    }
   ],
   "source": [
    "IML_mean = ami_liquidity[ami_liquidity.index > '2005-12-31'].IML.mean()\n",
    "IML_vol = ami_liquidity[ami_liquidity.index > '2005-12-31'].IML.std()\n",
    "IML_sharpe = IML_mean/IML_vol\n",
    "print(IML_mean,IML_vol,IML_sharpe)"
   ]
  },
  {
   "cell_type": "code",
   "execution_count": 75,
   "id": "7a49a998",
   "metadata": {},
   "outputs": [
    {
     "name": "stdout",
     "output_type": "stream",
     "text": [
      "2.770848558875869\n"
     ]
    }
   ],
   "source": [
    "ami_liquidity['IML_Invest'] = (1 +ami_liquidity.IML).cumprod() #(b)\n",
    "print(ami_liquidity['IML_Invest'][-1])"
   ]
  },
  {
   "cell_type": "code",
   "execution_count": 76,
   "id": "11cebe2b",
   "metadata": {},
   "outputs": [
    {
     "name": "stdout",
     "output_type": "stream",
     "text": [
      "                            OLS Regression Results                            \n",
      "==============================================================================\n",
      "Dep. Variable:                    IML   R-squared:                       0.007\n",
      "Model:                            OLS   Adj. R-squared:                 -0.010\n",
      "Method:                 Least Squares   F-statistic:                    0.3943\n",
      "Date:                Fri, 10 Nov 2023   Prob (F-statistic):              0.813\n",
      "Time:                        19:44:18   Log-Likelihood:                 922.24\n",
      "No. Observations:                 239   AIC:                            -1834.\n",
      "Df Residuals:                     234   BIC:                            -1817.\n",
      "Df Model:                           4                                         \n",
      "Covariance Type:            nonrobust                                         \n",
      "==============================================================================\n",
      "                 coef    std err          t      P>|t|      [0.025      0.975]\n",
      "------------------------------------------------------------------------------\n",
      "const          0.0043      0.000     12.455      0.000       0.004       0.005\n",
      "Mkt-RF         0.0040      0.008      0.501      0.617      -0.012       0.020\n",
      "SMB           -0.0099      0.010     -0.961      0.338      -0.030       0.010\n",
      "HML            0.0055      0.011      0.488      0.626      -0.017       0.028\n",
      "UMD            0.0034      0.007      0.504      0.615      -0.010       0.017\n",
      "==============================================================================\n",
      "Omnibus:                       57.883   Durbin-Watson:                   0.107\n",
      "Prob(Omnibus):                  0.000   Jarque-Bera (JB):               92.628\n",
      "Skew:                           1.434   Prob(JB):                     7.69e-21\n",
      "Kurtosis:                       4.040   Cond. No.                         37.0\n",
      "==============================================================================\n",
      "\n",
      "Notes:\n",
      "[1] Standard Errors assume that the covariance matrix of the errors is correctly specified.\n"
     ]
    }
   ],
   "source": [
    "Xd2 = ami_ff.iloc[1:]\n",
    "yd2 = ami_liquidity['IML'].iloc[1:]\n",
    "Xd2 = sm.add_constant(Xd2)\n",
    "modeld2 = sm.OLS(yd2, Xd2).fit()\n",
    "print(modeld2.summary())"
   ]
  },
  {
   "cell_type": "code",
   "execution_count": null,
   "id": "5cbbd223",
   "metadata": {},
   "outputs": [],
   "source": []
  },
  {
   "cell_type": "code",
   "execution_count": null,
   "id": "445c3e38",
   "metadata": {},
   "outputs": [],
   "source": []
  }
 ],
 "metadata": {
  "kernelspec": {
   "display_name": "Python 3 (ipykernel)",
   "language": "python",
   "name": "python3"
  },
  "language_info": {
   "codemirror_mode": {
    "name": "ipython",
    "version": 3
   },
   "file_extension": ".py",
   "mimetype": "text/x-python",
   "name": "python",
   "nbconvert_exporter": "python",
   "pygments_lexer": "ipython3",
   "version": "3.11.5"
  }
 },
 "nbformat": 4,
 "nbformat_minor": 5
}
