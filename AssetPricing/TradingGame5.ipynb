{
 "cells": [
  {
   "cell_type": "code",
   "execution_count": 1,
   "id": "3444773d",
   "metadata": {},
   "outputs": [
    {
     "name": "stdout",
     "output_type": "stream",
     "text": [
      "WARNING:tensorflow:From C:\\Users\\Jiaqi\\AppData\\Roaming\\Python\\Python311\\site-packages\\keras\\src\\losses.py:2976: The name tf.losses.sparse_softmax_cross_entropy is deprecated. Please use tf.compat.v1.losses.sparse_softmax_cross_entropy instead.\n",
      "\n"
     ]
    }
   ],
   "source": [
    "import numpy as np\n",
    "import pandas as pd\n",
    "from pypfopt import EfficientFrontier,risk_models,expected_returns,objective_functions\n",
    "from pypfopt.base_optimizer import BaseConvexOptimizer\n",
    "from scipy.optimize import minimize\n",
    "import matplotlib.pyplot as plt\n",
    "import statsmodels.api as sm\n",
    "from sklearn.model_selection import train_test_split\n",
    "import tensorflow as tf\n",
    "from tensorflow.keras.models import Sequential\n",
    "from tensorflow.keras.layers import Dense\n",
    "import sklearn\n",
    "from sklearn.metrics import roc_curve, auc\n",
    "from sklearn.neural_network import MLPRegressor\n",
    "from sklearn.metrics import mean_absolute_error, mean_squared_error\n",
    "from sklearn.model_selection import GridSearchCV\n",
    "from keras.layers import Input, Dense, concatenate\n",
    "from keras.models import Model\n",
    "from sklearn.preprocessing import StandardScaler\n",
    "from sklearn.dummy import DummyRegressor\n",
    "from sklearn.linear_model import LinearRegression"
   ]
  },
  {
   "cell_type": "code",
   "execution_count": 2,
   "id": "4790254f",
   "metadata": {},
   "outputs": [],
   "source": [
    "df_info = pd.read_excel('trading-game-data-28112023.xlsx',sheet_name='info')\n",
    "df_price = pd.read_excel('trading-game-data-28112023.xlsx',sheet_name='price')\n",
    "df_price['Date'] = pd.to_datetime(df_price['Date'])\n",
    "df_price.set_index('Date', inplace=True)\n",
    "df_sp = pd.read_excel('trading-game-data-28112023.xlsx',sheet_name='index-price' )\n",
    "df_sp['Date'] = pd.to_datetime(df_sp['Date'])\n",
    "df_sp.set_index('Date', inplace=True)\n",
    "df_size = pd.read_excel('trading-game-data-28112023.xlsx',sheet_name='size' )\n",
    "df_size['Date'] = pd.to_datetime(df_size['Date'])\n",
    "df_size.set_index('Date', inplace=True)\n",
    "df_ptb = pd.read_excel('trading-game-data-28112023.xlsx',sheet_name='price-to-book' )\n",
    "df_ptb['Date'] = pd.to_datetime(df_ptb['Date'])\n",
    "df_ptb.set_index('Date', inplace=True)\n",
    "df_turnover = df_size = pd.read_excel('trading-game-data-28112023.xlsx',sheet_name='turnover' )\n",
    "df_turnover['Date'] = pd.to_datetime(df_turnover['Date'])\n",
    "df_turnover.set_index('Date', inplace=True)"
   ]
  },
  {
   "cell_type": "code",
   "execution_count": 9,
   "id": "ed63dd15",
   "metadata": {},
   "outputs": [],
   "source": [
    "log_returns_ori = np.log(df_price / df_price.shift(1))\n",
    "log_returns = log_returns_ori.iloc[1:]\n",
    "illiquidity = np.abs(log_returns)/df_turnover[1:]\n",
    "log_returns = log_returns.dropna(axis=1)\n",
    "illiquidity = illiquidity.dropna(axis=1)\n",
    "log_returns.drop('ATVI', axis=1, inplace=True)"
   ]
  },
  {
   "cell_type": "code",
   "execution_count": 14,
   "id": "515de409",
   "metadata": {},
   "outputs": [
    {
     "data": {
      "text/plain": [
       "OGN     3.454349e-07\n",
       "SEE     2.655498e-07\n",
       "NWSA    2.647454e-07\n",
       "MHK     2.614719e-07\n",
       "TRMB    2.465225e-07\n",
       "FRT     2.373095e-07\n",
       "IVZ     2.259957e-07\n",
       "AIZ     2.244855e-07\n",
       "ZION    2.147000e-07\n",
       "DVA     2.145163e-07\n",
       "dtype: float64"
      ]
     },
     "execution_count": 14,
     "metadata": {},
     "output_type": "execute_result"
    }
   ],
   "source": [
    "illiquidity.mean().nlargest(10)"
   ]
  },
  {
   "cell_type": "code",
   "execution_count": null,
   "id": "3d4efa8e",
   "metadata": {},
   "outputs": [],
   "source": []
  }
 ],
 "metadata": {
  "kernelspec": {
   "display_name": "Python 3 (ipykernel)",
   "language": "python",
   "name": "python3"
  },
  "language_info": {
   "codemirror_mode": {
    "name": "ipython",
    "version": 3
   },
   "file_extension": ".py",
   "mimetype": "text/x-python",
   "name": "python",
   "nbconvert_exporter": "python",
   "pygments_lexer": "ipython3",
   "version": "3.11.5"
  }
 },
 "nbformat": 4,
 "nbformat_minor": 5
}
