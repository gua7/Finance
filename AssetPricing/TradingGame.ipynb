{
 "cells": [
  {
   "cell_type": "code",
   "execution_count": 12,
   "id": "9f79aeda",
   "metadata": {},
   "outputs": [],
   "source": [
    "import numpy as np\n",
    "import pandas as pd\n",
    "from pypfopt import EfficientFrontier,risk_models,expected_returns,objective_functions\n",
    "from pypfopt.base_optimizer import BaseConvexOptimizer\n",
    "from scipy.optimize import minimize\n",
    "import matplotlib.pyplot as plt\n",
    "import statsmodels.api as sm"
   ]
  },
  {
   "cell_type": "code",
   "execution_count": 13,
   "id": "a86ca5b8",
   "metadata": {},
   "outputs": [],
   "source": [
    "df_info = pd.read_excel('trading-game-data-08112023.xlsx',sheet_name='info')\n",
    "df_price = pd.read_excel('trading-game-data-08112023.xlsx',sheet_name='price')\n",
    "df_price.set_index('Date', inplace=True)\n",
    "df_sp = pd.read_excel('trading-game-data-08112023.xlsx',sheet_name='index-price' )\n",
    "df_sp.set_index('Date', inplace=True)\n",
    "df_size = pd.read_excel('trading-game-data-08112023.xlsx',sheet_name='size' )\n",
    "df_size.set_index('Date', inplace=True)\n",
    "df_ptb = pd.read_excel('trading-game-data-08112023.xlsx',sheet_name='price-to-book' )\n",
    "df_ptb.set_index('Date', inplace=True)\n",
    "df_turnover = df_size = pd.read_excel('trading-game-data-08112023.xlsx',sheet_name='turnover' )\n",
    "df_turnover.set_index('Date', inplace=True)"
   ]
  },
  {
   "cell_type": "code",
   "execution_count": 14,
   "id": "eea304df",
   "metadata": {},
   "outputs": [],
   "source": [
    "log_returns = np.log(df_price / df_price.shift(1))\n",
    "expected_return = log_returns.mean()*252\n",
    "cov_matrix = log_returns.cov()*252\n",
    "rf = 0.05"
   ]
  },
  {
   "cell_type": "code",
   "execution_count": 6,
   "id": "482c52a4",
   "metadata": {},
   "outputs": [
    {
     "name": "stdout",
     "output_type": "stream",
     "text": [
      "Healthcare Portfolio Return: 0.43494036646553813\n",
      "Healthcare Portfolio Risk: 0.16389615536265262\n",
      "Industrials Portfolio Return: 0.5285898396220424\n",
      "Industrials Portfolio Risk: 0.19063610055853383\n",
      "Technology Portfolio Return: 0.9796303841639803\n",
      "Technology Portfolio Risk: 0.2870331619150057\n",
      "Consumer Services Portfolio Return: 0.5633876003495777\n",
      "Consumer Services Portfolio Risk: 0.21676737955665276\n",
      "Finance Portfolio Return: 0.3358156554024213\n",
      "Finance Portfolio Risk: 0.12421037873069753\n",
      "Consumer Non-Cyclicals Portfolio Return: 0.3743506728699406\n",
      "Consumer Non-Cyclicals Portfolio Risk: 0.18030546934970948\n",
      "Business Services Portfolio Return: 0.3842668688355223\n",
      "Business Services Portfolio Risk: 0.1598384499358929\n",
      "Utilities Portfolio Return: 0.40398912081023153\n",
      "Utilities Portfolio Risk: 0.2237404799144419\n",
      "Non-Energy Materials Portfolio Return: 0.26668959850957424\n",
      "Non-Energy Materials Portfolio Risk: 0.19169678045842442\n",
      "Energy Portfolio Return: 0.2576859941249493\n",
      "Energy Portfolio Risk: 0.28658052673665774\n",
      "Consumer Cyclicals Portfolio Return: 0.5918727753891011\n",
      "Consumer Cyclicals Portfolio Risk: 0.21431016186058102\n",
      "Telecommunications Portfolio Return: 0.22062322738297263\n",
      "Telecommunications Portfolio Risk: 0.2452992491537913\n"
     ]
    }
   ],
   "source": [
    "unique_industries = df_info['RBICS Economy'].unique()\n",
    "def optm_func(weights, expected_return, cov_matrix,rf):\n",
    "    portfolio_return = weights @ expected_return\n",
    "    portfolio_risk = np.sqrt(np.dot(weights, np.dot(cov_matrix, weights)))\n",
    "    sharpe_ratio = (portfolio_return - rf) / portfolio_risk\n",
    "    return -sharpe_ratio\n",
    "\n",
    "for industry in unique_industries:\n",
    "    companies_in_industry = df_info[df_info['RBICS Economy'] == industry].Ticker\n",
    "    df_price_industry = df_price.loc[:, companies_in_industry]\n",
    "    industry_log_returns = np.log(df_price_industry / df_price_industry.shift(1))\n",
    "    industry_expected_return = industry_log_returns.mean()*252\n",
    "    industry_cov_matrix = industry_log_returns.cov()*252\n",
    "\n",
    "    constraints = ({'type': 'eq', 'fun': lambda weights: np.sum(weights) - 1},\n",
    "                   {'type': 'ineq', 'fun': lambda weights: weights})\n",
    "   \n",
    "    n_assets = len(industry_expected_return)\n",
    "    bounds = [(0, 1) for _ in range(n_assets)]\n",
    "\n",
    "    initial_weights = np.ones(n_assets) / n_assets\n",
    "\n",
    "    optimization = minimize(optm_func, initial_weights, args=(industry_expected_return, industry_cov_matrix, rf),\n",
    "                    constraints=constraints, bounds=bounds)\n",
    "    optimal_weights = optimization.x\n",
    "    optimal_return = optimal_weights @ industry_expected_return\n",
    "    optimal_risk = np.sqrt(optimal_weights @ industry_cov_matrix @ optimal_weights)\n",
    "    optimal_sharpe_ratio = (optimal_return - rf) / optimal_risk\n",
    "    optimal_weights = np.round(optimal_weights,4)\n",
    "\n",
    "    #print(f\"{industry} Optimal Portfolio Weights:\", optimal_weights)\n",
    "    print(f\"{industry} Portfolio Return:\", optimal_return)\n",
    "    print(f\"{industry} Portfolio Risk:\", optimal_risk)\n",
    "    #print(f\"{industry} Sharpe Ratio:\", optimal_sharpe_ratio)"
   ]
  },
  {
   "cell_type": "code",
   "execution_count": 7,
   "id": "9522cd6f",
   "metadata": {},
   "outputs": [
    {
     "name": "stdout",
     "output_type": "stream",
     "text": [
      "[0.     0.     0.     0.     0.     0.     0.     0.     0.     0.\n",
      " 0.     0.     0.     0.     0.     0.     0.     0.     0.     0.\n",
      " 0.     0.     0.     0.     0.     0.     0.     0.     0.     0.\n",
      " 0.     0.     0.     0.     0.     0.     0.     0.     0.     0.\n",
      " 0.     0.     0.     0.     0.     0.     0.     0.     0.     0.\n",
      " 0.     0.     0.     0.     0.     0.     0.     0.     0.     0.\n",
      " 0.     0.     0.     0.     0.     0.     0.     0.     0.     0.\n",
      " 0.     0.     0.     0.     0.     0.     0.     0.     0.     0.\n",
      " 0.     0.     0.2478 0.     0.     0.     0.     0.     0.     0.\n",
      " 0.     0.     0.     0.     0.     0.     0.     0.     0.     0.\n",
      " 0.     0.     0.0061 0.0381 0.     0.     0.     0.     0.     0.\n",
      " 0.     0.0772 0.     0.     0.     0.     0.     0.     0.     0.\n",
      " 0.     0.     0.     0.     0.     0.     0.     0.     0.     0.\n",
      " 0.     0.     0.     0.     0.     0.     0.     0.     0.     0.\n",
      " 0.     0.     0.     0.     0.     0.     0.     0.     0.     0.\n",
      " 0.     0.     0.     0.     0.     0.     0.     0.     0.     0.\n",
      " 0.     0.     0.     0.     0.     0.     0.     0.     0.     0.\n",
      " 0.     0.     0.     0.     0.     0.     0.     0.     0.     0.\n",
      " 0.     0.     0.     0.     0.     0.     0.     0.     0.     0.\n",
      " 0.     0.     0.     0.     0.     0.     0.     0.     0.0967 0.\n",
      " 0.     0.     0.     0.     0.     0.     0.     0.     0.     0.\n",
      " 0.     0.     0.     0.     0.     0.     0.     0.     0.     0.\n",
      " 0.     0.     0.     0.     0.     0.     0.     0.     0.     0.\n",
      " 0.     0.     0.     0.     0.     0.     0.     0.     0.     0.\n",
      " 0.     0.     0.     0.     0.     0.     0.     0.     0.     0.\n",
      " 0.     0.     0.     0.     0.     0.     0.     0.     0.     0.\n",
      " 0.     0.     0.     0.     0.     0.     0.     0.     0.     0.\n",
      " 0.     0.     0.     0.     0.     0.     0.     0.     0.1339 0.\n",
      " 0.     0.     0.     0.     0.     0.     0.     0.     0.     0.\n",
      " 0.     0.     0.     0.     0.0211 0.     0.     0.     0.     0.1181\n",
      " 0.     0.     0.     0.     0.     0.     0.     0.     0.     0.\n",
      " 0.     0.0335 0.     0.     0.     0.     0.     0.     0.     0.\n",
      " 0.     0.     0.     0.     0.     0.     0.     0.     0.     0.\n",
      " 0.     0.     0.     0.     0.     0.     0.     0.     0.     0.1034\n",
      " 0.     0.     0.     0.     0.     0.     0.     0.     0.     0.\n",
      " 0.     0.     0.     0.0192 0.     0.     0.     0.     0.     0.\n",
      " 0.     0.     0.     0.     0.     0.0257 0.     0.0326 0.     0.\n",
      " 0.     0.     0.     0.     0.     0.     0.     0.     0.     0.\n",
      " 0.     0.     0.     0.     0.     0.     0.     0.     0.     0.\n",
      " 0.     0.     0.     0.     0.     0.     0.     0.     0.     0.0466\n",
      " 0.     0.     0.     0.     0.     0.     0.     0.     0.     0.\n",
      " 0.     0.     0.     0.     0.     0.     0.     0.     0.     0.\n",
      " 0.     0.     0.     0.     0.     0.     0.     0.     0.     0.\n",
      " 0.     0.     0.     0.     0.     0.     0.     0.     0.     0.\n",
      " 0.     0.     0.     0.     0.     0.     0.     0.     0.     0.\n",
      " 0.     0.     0.     0.     0.     0.     0.     0.     0.     0.\n",
      " 0.     0.     0.     0.     0.     0.     0.     0.     0.     0.\n",
      " 0.     0.     0.     0.     0.     0.     0.     0.     0.     0.\n",
      " 0.     0.     0.     0.     0.     0.     0.     0.     0.     0.\n",
      " 0.     0.     0.     0.     0.     0.     0.     0.     0.     0.    ]\n",
      "Optimal Portfolio Return: 0.6075599445950584\n",
      "Optimal Portfolio Risk: 0.1325128283763191\n"
     ]
    }
   ],
   "source": [
    "def optm_func(weights, expected_return, cov_matrix,rf):\n",
    "    portfolio_risk = np.sqrt(np.dot(weights, np.dot(cov_matrix, weights)))\n",
    "    portfolio_return = weights @ expected_return\n",
    "    adjusted_sharpe_ratio = (portfolio_return - rf) / portfolio_risk\n",
    "    return -adjusted_sharpe_ratio\n",
    "\n",
    "constraints = ({'type': 'eq', 'fun': lambda weights: np.sum(weights) - 1},\n",
    "               {'type': 'ineq', 'fun': lambda weights: weights})\n",
    "\n",
    "n_assets = len(expected_return)\n",
    "bounds = [(0, 1) for _ in range(n_assets)]\n",
    "initial_weights = np.ones(n_assets) / n_assets\n",
    "\n",
    "optimization = minimize(optm_func, initial_weights, args=(expected_return, cov_matrix, rf),\n",
    "                constraints=constraints, bounds=bounds)\n",
    "optimal_weights = optimization.x\n",
    "optimal_return = optimal_weights @ expected_return\n",
    "optimal_risk = np.sqrt(optimal_weights @ cov_matrix @ optimal_weights)\n",
    "optimal_sharpe_ratio = (optimal_return - rf) / optimal_risk\n",
    "optimal_weights = np.round(optimal_weights,4)\n",
    "\n",
    "print(optimal_weights)\n",
    "print(\"Optimal Portfolio Return:\", optimal_return)\n",
    "print(\"Optimal Portfolio Risk:\", optimal_risk)\n"
   ]
  },
  {
   "cell_type": "code",
   "execution_count": 8,
   "id": "0a6340bb",
   "metadata": {},
   "outputs": [],
   "source": [
    "# target_returns = np.arange(0.1,0.7,0.05)\n",
    "# portfolio_returns = []\n",
    "# portfolio_risks = []\n",
    "# for target_return in target_returns:\n",
    "#     constraint_return = {'type': 'eq', 'fun': lambda weights: weights @ expected_return - target_return}\n",
    "#     constraints = [constraint_return] + [{'type': 'eq', 'fun': lambda weights: np.sum(weights) - 1},\n",
    "#                {'type': 'ineq', 'fun': lambda weights: weights}]\n",
    "#     optimization = minimize(optm_func, initial_weights, args=(expected_return, cov_matrix, rf),\n",
    "#                             constraints=constraints, bounds=bounds)\n",
    "#     optimal_weights = optimization.x\n",
    "#     portfolio_risk = np.sqrt(optimal_weights @ cov_matrix @ optimal_weights)\n",
    "\n",
    "#     portfolio_returns.append(target_return)\n",
    "#     portfolio_risks.append(portfolio_risk)\n",
    "#     print(target_return)\n",
    "    \n",
    "# portfolio_returns = np.array(portfolio_returns)\n",
    "# portfolio_risks = np.array(portfolio_risks)\n"
   ]
  },
  {
   "cell_type": "code",
   "execution_count": 9,
   "id": "d3d995ea",
   "metadata": {},
   "outputs": [],
   "source": [
    "# plt.plot(portfolio_risks[2:],portfolio_returns[2:]-0.25*portfolio_risks[2:])\n",
    "# plt.plot(portfolio_risks[2:],portfolio_returns[2:],color='red')"
   ]
  },
  {
   "cell_type": "code",
   "execution_count": 16,
   "id": "00ae40ff",
   "metadata": {},
   "outputs": [
    {
     "name": "stderr",
     "output_type": "stream",
     "text": [
      "C:\\Users\\Jiaqi\\AppData\\Roaming\\Python\\Python311\\site-packages\\pypfopt\\risk_models.py:70: UserWarning: The covariance matrix is non positive semidefinite. Amending eigenvalues.\n",
      "  warnings.warn(\n",
      "C:\\Users\\Jiaqi\\AppData\\Roaming\\Python\\Python311\\site-packages\\pypfopt\\risk_models.py:89: UserWarning: Could not fix matrix. Please try a different risk model.\n",
      "  warnings.warn(\n"
     ]
    },
    {
     "name": "stdout",
     "output_type": "stream",
     "text": [
      "[0.0, 0.0, 0.0, 0.0, 0.0, 0.0, 0.0, 0.0, 0.0, 0.0, 0.0, 0.0, 0.0, 0.0, 0.0, 0.0, 0.0, 0.0, 0.0, 0.0, 0.0, 0.0, 0.0, 0.0, 0.0, 0.0, 0.0, 0.0, 0.0, 0.0, 0.0, 0.0, 0.0, 0.0, 0.0, 0.0, 0.0, 0.0, 0.0, 0.0, 0.0, 0.0, 0.0, 0.0, 0.0, 0.0, 0.0, 0.0, 0.0, 0.0, 0.0, 0.0, 0.0, 0.0, 0.0, 0.0, 0.0, 0.0, 0.0, 0.0, 0.0, 0.0, 0.0, 0.0, 0.0, 0.0, 0.0, 0.0, 0.0, 0.0, 0.0, 0.0, 0.0, 0.0, 0.0, 0.0, 0.0, 0.0, 0.0, 0.0, 0.0, 0.0, 0.24831, 0.0, 0.0, 0.0, 0.0, 0.0, 0.0, 0.0, 0.0, 0.0, 0.0, 0.0, 0.0, 0.0, 0.0, 0.0, 0.0, 0.0, 0.0, 0.0, 0.00596, 0.03766, 0.0, 0.0, 0.0, 0.0, 0.0, 0.0, 0.0, 0.07598, 0.0, 0.0, 0.0, 0.0, 0.0, 0.0, 0.0, 0.0, 0.0, 0.0, 0.0, 0.0, 0.0, 0.0, 0.0, 0.0, 0.0, 0.0, 0.0, 0.0, 0.0, 0.0, 0.0, 0.0, 0.0, 0.0, 0.0, 0.0, 0.0, 0.0, 0.0, 0.0, 0.0, 0.0, 0.0, 0.0, 0.0, 0.0, 0.0, 0.0, 0.0, 0.0, 0.0, 0.0, 0.0, 0.0, 0.0, 0.0, 0.0, 0.0, 0.0, 0.0, 0.0, 0.0, 0.0, 0.0, 0.0, 0.0, 0.0, 0.0, 0.0, 0.0, 0.0, 0.0, 0.0, 0.0, 0.0, 0.0, 0.0, 0.0, 0.0, 0.0, 0.0, 0.0, 0.0, 0.0, 0.0, 0.0, 0.0, 0.0, 0.0, 0.0, 0.0, 0.0, 0.0, 0.0, 0.09747, 0.0, 0.0, 0.0, 0.0, 0.0, 0.0, 0.0, 0.0, 0.0, 0.0, 0.0, 0.0, 0.0, 0.0, 0.0, 0.0, 0.0, 0.0, 0.0, 0.0, 0.0, 0.0, 0.0, 0.0, 0.0, 0.0, 0.0, 0.0, 0.0, 0.0, 0.0, 0.0, 0.0, 0.0, 0.0, 0.0, 0.0, 0.0, 0.0, 0.0, 0.0, 0.0, 0.0, 0.0, 0.0, 0.0, 0.0, 0.0, 0.0, 0.0, 0.0, 0.0, 0.0, 0.0, 0.0, 0.0, 0.0, 0.0, 0.0, 0.0, 0.0, 0.0, 0.0, 0.0, 0.0, 0.0, 0.0, 0.0, 0.0, 0.0, 0.0, 0.0, 0.0, 0.0, 0.0, 0.0, 0.0, 0.0, 0.0, 0.13509, 0.0, 0.0, 0.0, 0.0, 0.0, 0.0, 0.0, 0.0, 0.0, 0.0, 0.0, 0.0, 0.0, 0.0, 0.0, 0.02006, 0.0, 0.0, 0.0, 0.0, 0.11828, 0.0, 0.0, 0.0, 0.0, 0.0, 0.0, 0.0, 0.0, 0.0, 0.0, 0.0, 0.03464, 0.0, 0.0, 0.0, 0.0, 0.0, 0.0, 0.0, 0.0, 0.0, 0.0, 0.0, 0.0, 0.0, 0.0, 0.0, 0.0, 0.0, 0.0, 0.0, 0.0, 0.0, 0.0, 0.0, 0.0, 0.0, 0.0, 0.0, 0.10331, 0.0, 0.0, 0.0, 0.0, 0.0, 0.0, 0.0, 0.0, 0.0, 0.0, 0.0, 0.0, 0.0, 0.02013, 0.0, 0.0, 0.0, 0.0, 0.0, 0.0, 0.0, 0.0, 0.0, 0.0, 0.0, 0.02547, 0.0, 0.03351, 0.0, 0.0, 0.0, 0.0, 0.0, 0.0, 0.0, 0.0, 0.0, 0.0, 0.0, 0.0, 0.0, 0.0, 0.0, 0.0, 0.0, 0.0, 0.0, 0.00067, 0.0, 0.0, 0.0, 0.0, 0.0, 0.0, 0.0, 0.0, 0.0, 0.0, 0.0, 0.04667, 0.0, 0.0, 0.0, 0.0, 0.0, 0.0, 0.0, 0.0, 0.0, 0.0, 0.0, 0.0, 0.0, 0.0, 0.0, 0.0, 0.0, 0.0, 0.0, 0.0, 0.0, 0.0, 0.0, 0.0, 0.0, 0.0, 0.0, 0.0, 0.0, 0.0, 0.0, 0.0, 0.0, 0.0, 0.0, 0.0, 0.0, 0.0, 0.0, 0.0, 0.0, 0.0, 0.0, 0.0, 0.0, 0.0, 0.0, 0.0, 0.0, 0.0, 0.0, 0.0, 0.0, 0.0, 0.0, 0.0, 0.0, 0.0, 0.0, 0.0, 0.0, 0.0, 0.0, 0.0, 0.0, 0.0, 0.0, 0.0, 0.0, 0.0, 0.0, 0.0, 0.0, 0.0, 0.0, 0.0, 0.0, 0.0, 0.0, 0.0, 0.0, 0.0, 0.0, 0.0, 0.0, 0.0, 0.0, 0.0, 0.0, 0.0, 0.0, 0.0, 0.0, 0.0, 0.0, 0.0, 0.0, 0.0, 0.0, 0.0]\n",
      "Expected annual return: 61.1%\n",
      "Annual volatility: 13.3%\n",
      "Sharpe Ratio: 4.22\n"
     ]
    },
    {
     "name": "stderr",
     "output_type": "stream",
     "text": [
      "C:\\Users\\Jiaqi\\AppData\\Roaming\\Python\\Python311\\site-packages\\cvxpy\\problems\\problem.py:1403: UserWarning: Solution may be inaccurate. Try another solver, adjusting the solver settings, or solve with verbose=True for more information.\n",
      "  warnings.warn(\n"
     ]
    }
   ],
   "source": [
    "df_price_tails = df_price\n",
    "mu = expected_returns.mean_historical_return(df_price_tails, log_returns=True,frequency=252,compounding=False)\n",
    "S = risk_models.sample_cov(df_price_tails, log_returns=True,frequency=252)\n",
    "ef = EfficientFrontier(mu, S)\n",
    "raw_weights = ef.max_sharpe(risk_free_rate=0.05)\n",
    "cleaned_weights = list(ef.clean_weights().values())\n",
    "print(cleaned_weights)\n",
    "ef.portfolio_performance(verbose=True,risk_free_rate=0.05)\n",
    "ef.save_weights_to_file('weights.csv')\n",
    "\n",
    "# def optm(weights, expected_returns, cov_matrix):\n",
    "#     portfolio_return = weights @ mu\n",
    "#     portfolio_risk = np.dot(weights, np.dot(cov_matrix, weights))\n",
    "#     return 0.8*portfolio_return - 0.25 * portfolio_risk\n",
    "\n",
    "# w = ef.convex_objective(optm,expected_returns = mu,cov_matrix = S)"
   ]
  },
  {
   "cell_type": "code",
   "execution_count": null,
   "id": "91018173",
   "metadata": {},
   "outputs": [],
   "source": [
    "S"
   ]
  },
  {
   "cell_type": "code",
   "execution_count": null,
   "id": "c5592c64",
   "metadata": {},
   "outputs": [],
   "source": []
  }
 ],
 "metadata": {
  "kernelspec": {
   "display_name": "Python 3 (ipykernel)",
   "language": "python",
   "name": "python3"
  },
  "language_info": {
   "codemirror_mode": {
    "name": "ipython",
    "version": 3
   },
   "file_extension": ".py",
   "mimetype": "text/x-python",
   "name": "python",
   "nbconvert_exporter": "python",
   "pygments_lexer": "ipython3",
   "version": "3.11.5"
  }
 },
 "nbformat": 4,
 "nbformat_minor": 5
}
